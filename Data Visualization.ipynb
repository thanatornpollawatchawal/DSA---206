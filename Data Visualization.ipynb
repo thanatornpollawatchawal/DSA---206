{
 "cells": [
  {
   "cell_type": "code",
   "execution_count": 2,
   "id": "be41145a-3269-4b89-91ea-657c514672bc",
   "metadata": {},
   "outputs": [],
   "source": [
    "import pandas as pd\n",
    "import numpy as np\n",
    "import seaborn as sns\n",
    "import matplotlib.pyplot as plt"
   ]
  },
  {
   "cell_type": "code",
   "execution_count": 3,
   "id": "89baceea-657b-4a63-9cb3-0a98e1eee0f4",
   "metadata": {},
   "outputs": [],
   "source": [
    "df = pd.read_csv('TNIstudent.csv')\n",
    "df = df.drop(\"Timestamp\", axis=1)"
   ]
  },
  {
   "cell_type": "code",
   "execution_count": 4,
   "id": "72e2a084-e99c-4206-bdbc-8d8fb27ecf81",
   "metadata": {},
   "outputs": [
    {
     "data": {
      "text/html": [
       "<div>\n",
       "<style scoped>\n",
       "    .dataframe tbody tr th:only-of-type {\n",
       "        vertical-align: middle;\n",
       "    }\n",
       "\n",
       "    .dataframe tbody tr th {\n",
       "        vertical-align: top;\n",
       "    }\n",
       "\n",
       "    .dataframe thead th {\n",
       "        text-align: right;\n",
       "    }\n",
       "</style>\n",
       "<table border=\"1\" class=\"dataframe\">\n",
       "  <thead>\n",
       "    <tr style=\"text-align: right;\">\n",
       "      <th></th>\n",
       "      <th>Gender เพศ</th>\n",
       "      <th>Degree ระดับการศึกษา</th>\n",
       "      <th>Major of Study สาขา</th>\n",
       "      <th>Year of Birth ปีเกิด</th>\n",
       "      <th>Mode of Transportation วิธีการเดินทาง</th>\n",
       "      <th>Most favourite food shop in TNI ร้านอาหารที่ชอบในTNI</th>\n",
       "      <th>Most favourite food shop near TNI ร้านอาหารที่ชอบใกล้TNI</th>\n",
       "      <th>Most favourite beverage shop ร้านเครื่องดื่มที่ชอบ</th>\n",
       "      <th>Most favourite vending machine ตู้กดอัตโนมัติที่ชอบ</th>\n",
       "      <th>Most Favourite Sport Facilities กีฬาที่ชอบ</th>\n",
       "      <th>...</th>\n",
       "      <th>Stress from Lecturer ความเครียดจากอาจารย์ผู้สอน</th>\n",
       "      <th>Stress from Family Situation ความเครียดจากครอบครัว</th>\n",
       "      <th>How satisfied with the job prospect of TNI คุณพึงพอใจกับโอกาสในการได้รับงานจากTNIหรือไม่</th>\n",
       "      <th>How satisfied with the language proficiency in English and Japanese คุณพึงพอใจกับทักษะระดับภาษาอังกฤษและญี่ปุ่นขนาดไหน</th>\n",
       "      <th>How satisfied with the first aid room facility คุณพึงพอใจกับห้องปฐมพยาบาลหรือไม่</th>\n",
       "      <th>How satisfied with the library คุณพึงพอใจกับห้องสมุดขนาดไหน</th>\n",
       "      <th>How satisfied with the WiFi and Internet คุณพึงพอใจกับไวไฟและอินเตอร์เน็ตขนาดไหน</th>\n",
       "      <th>Are you satisfied with the speed of the printing services shop คุณพึงพอใจกับความเร็วของร้านถ่ายเอกสารหรือไม่</th>\n",
       "      <th>Does cooperative shop has the item or goods you want สหกรณ์มีสินค้าที่คุณต้องการหรือไม่</th>\n",
       "      <th>Overall opinion about TNI ความคิดเห็นเกี่ยวกับTNI</th>\n",
       "    </tr>\n",
       "  </thead>\n",
       "  <tbody>\n",
       "    <tr>\n",
       "      <th>0</th>\n",
       "      <td>Male/ชาย</td>\n",
       "      <td>Undergraduate/ปริญญาตรี</td>\n",
       "      <td>DSA</td>\n",
       "      <td>2001</td>\n",
       "      <td>Walk เดินเท้า</td>\n",
       "      <td>Hainanese chicken rice ข้าวมันไก่นายโส่ย</td>\n",
       "      <td>Green Steak shop สเต็กคุณพีซ (ร้านเขียว)</td>\n",
       "      <td>Infinity/เอมุ (Building E) ตึก E</td>\n",
       "      <td>7-11</td>\n",
       "      <td>Table Tennis</td>\n",
       "      <td>...</td>\n",
       "      <td>3</td>\n",
       "      <td>4</td>\n",
       "      <td>4</td>\n",
       "      <td>3</td>\n",
       "      <td>3</td>\n",
       "      <td>4</td>\n",
       "      <td>4</td>\n",
       "      <td>3</td>\n",
       "      <td>Sometimes บางครั้ง</td>\n",
       "      <td>4</td>\n",
       "    </tr>\n",
       "    <tr>\n",
       "      <th>1</th>\n",
       "      <td>Male/ชาย</td>\n",
       "      <td>Undergraduate/ปริญญาตรี</td>\n",
       "      <td>DGE</td>\n",
       "      <td>2004</td>\n",
       "      <td>Walk เดินเท้า</td>\n",
       "      <td>Hiramiya Japanese Food ร้านอาหารญี่ปุ่นฮิรามิยะ</td>\n",
       "      <td>Shop opposite blue building ร้านป้านิด (ร้านตร...</td>\n",
       "      <td>Infinity/เอมุ (Building E) ตึก E</td>\n",
       "      <td>7-11</td>\n",
       "      <td>Badminton court</td>\n",
       "      <td>...</td>\n",
       "      <td>1</td>\n",
       "      <td>2</td>\n",
       "      <td>5</td>\n",
       "      <td>5</td>\n",
       "      <td>3</td>\n",
       "      <td>5</td>\n",
       "      <td>4</td>\n",
       "      <td>4</td>\n",
       "      <td>Sometimes บางครั้ง</td>\n",
       "      <td>5</td>\n",
       "    </tr>\n",
       "    <tr>\n",
       "      <th>2</th>\n",
       "      <td>Female/หญิง</td>\n",
       "      <td>Undergraduate/ปริญญาตรี</td>\n",
       "      <td>JIB</td>\n",
       "      <td>2004</td>\n",
       "      <td>Car รถยนต์</td>\n",
       "      <td>Snack shop ขนม-นม-เนย</td>\n",
       "      <td>7-11</td>\n",
       "      <td>Coffee Shop (Building B) ตึก B</td>\n",
       "      <td>7-11</td>\n",
       "      <td>Gym</td>\n",
       "      <td>...</td>\n",
       "      <td>2</td>\n",
       "      <td>2</td>\n",
       "      <td>5</td>\n",
       "      <td>5</td>\n",
       "      <td>3</td>\n",
       "      <td>3</td>\n",
       "      <td>4</td>\n",
       "      <td>5</td>\n",
       "      <td>Always มีตลอดเวลา</td>\n",
       "      <td>5</td>\n",
       "    </tr>\n",
       "    <tr>\n",
       "      <th>3</th>\n",
       "      <td>Female/หญิง</td>\n",
       "      <td>Undergraduate/ปริญญาตรี</td>\n",
       "      <td>DSA</td>\n",
       "      <td>2002</td>\n",
       "      <td>Walk เดินเท้า</td>\n",
       "      <td>Hainanese chicken rice ข้าวมันไก่นายโส่ย</td>\n",
       "      <td>Green Steak shop สเต็กคุณพีซ (ร้านเขียว)</td>\n",
       "      <td>Coffee Shop (Building B) ตึก B</td>\n",
       "      <td>7-11</td>\n",
       "      <td>Badminton court</td>\n",
       "      <td>...</td>\n",
       "      <td>3</td>\n",
       "      <td>3</td>\n",
       "      <td>4</td>\n",
       "      <td>3</td>\n",
       "      <td>3</td>\n",
       "      <td>4</td>\n",
       "      <td>4</td>\n",
       "      <td>3</td>\n",
       "      <td>Sometimes บางครั้ง</td>\n",
       "      <td>4</td>\n",
       "    </tr>\n",
       "    <tr>\n",
       "      <th>4</th>\n",
       "      <td>Female/หญิง</td>\n",
       "      <td>Undergraduate/ปริญญาตรี</td>\n",
       "      <td>DSA</td>\n",
       "      <td>2002</td>\n",
       "      <td>Walk เดินเท้า</td>\n",
       "      <td>Hiramiya Japanese Food ร้านอาหารญี่ปุ่นฮิรามิยะ</td>\n",
       "      <td>Shop under blue building ร้านพี่นก (ร้านใต้ตึก...</td>\n",
       "      <td>Sunrise Coffee (Building A) ตึก A</td>\n",
       "      <td>7-11</td>\n",
       "      <td>Basketball / Volley ball</td>\n",
       "      <td>...</td>\n",
       "      <td>1</td>\n",
       "      <td>1</td>\n",
       "      <td>5</td>\n",
       "      <td>4</td>\n",
       "      <td>3</td>\n",
       "      <td>4</td>\n",
       "      <td>4</td>\n",
       "      <td>3</td>\n",
       "      <td>Sometimes บางครั้ง</td>\n",
       "      <td>5</td>\n",
       "    </tr>\n",
       "  </tbody>\n",
       "</table>\n",
       "<p>5 rows × 30 columns</p>\n",
       "</div>"
      ],
      "text/plain": [
       "    Gender เพศ     Degree ระดับการศึกษา Major of Study สาขา  \\\n",
       "0     Male/ชาย  Undergraduate/ปริญญาตรี                 DSA   \n",
       "1     Male/ชาย  Undergraduate/ปริญญาตรี                 DGE   \n",
       "2  Female/หญิง  Undergraduate/ปริญญาตรี                 JIB   \n",
       "3  Female/หญิง  Undergraduate/ปริญญาตรี                 DSA   \n",
       "4  Female/หญิง  Undergraduate/ปริญญาตรี                 DSA   \n",
       "\n",
       "   Year of Birth ปีเกิด Mode of Transportation วิธีการเดินทาง  \\\n",
       "0                  2001                         Walk เดินเท้า   \n",
       "1                  2004                         Walk เดินเท้า   \n",
       "2                  2004                            Car รถยนต์   \n",
       "3                  2002                         Walk เดินเท้า   \n",
       "4                  2002                         Walk เดินเท้า   \n",
       "\n",
       "  Most favourite food shop in TNI ร้านอาหารที่ชอบในTNI  \\\n",
       "0           Hainanese chicken rice ข้าวมันไก่นายโส่ย     \n",
       "1    Hiramiya Japanese Food ร้านอาหารญี่ปุ่นฮิรามิยะ     \n",
       "2                              Snack shop ขนม-นม-เนย     \n",
       "3           Hainanese chicken rice ข้าวมันไก่นายโส่ย     \n",
       "4    Hiramiya Japanese Food ร้านอาหารญี่ปุ่นฮิรามิยะ     \n",
       "\n",
       "  Most favourite food shop near TNI ร้านอาหารที่ชอบใกล้TNI  \\\n",
       "0           Green Steak shop สเต็กคุณพีซ (ร้านเขียว)         \n",
       "1  Shop opposite blue building ร้านป้านิด (ร้านตร...         \n",
       "2                                               7-11         \n",
       "3           Green Steak shop สเต็กคุณพีซ (ร้านเขียว)         \n",
       "4  Shop under blue building ร้านพี่นก (ร้านใต้ตึก...         \n",
       "\n",
       "  Most favourite beverage shop ร้านเครื่องดื่มที่ชอบ  \\\n",
       "0                   Infinity/เอมุ (Building E) ตึก E   \n",
       "1                   Infinity/เอมุ (Building E) ตึก E   \n",
       "2                     Coffee Shop (Building B) ตึก B   \n",
       "3                     Coffee Shop (Building B) ตึก B   \n",
       "4                  Sunrise Coffee (Building A) ตึก A   \n",
       "\n",
       "  Most favourite vending machine ตู้กดอัตโนมัติที่ชอบ  \\\n",
       "0                                               7-11    \n",
       "1                                               7-11    \n",
       "2                                               7-11    \n",
       "3                                               7-11    \n",
       "4                                               7-11    \n",
       "\n",
       "  Most Favourite Sport Facilities กีฬาที่ชอบ  ...  \\\n",
       "0                               Table Tennis  ...   \n",
       "1                            Badminton court  ...   \n",
       "2                                        Gym  ...   \n",
       "3                            Badminton court  ...   \n",
       "4                   Basketball / Volley ball  ...   \n",
       "\n",
       "  Stress from Lecturer ความเครียดจากอาจารย์ผู้สอน  \\\n",
       "0                                               3   \n",
       "1                                               1   \n",
       "2                                               2   \n",
       "3                                               3   \n",
       "4                                               1   \n",
       "\n",
       "  Stress from Family Situation ความเครียดจากครอบครัว  \\\n",
       "0                                                  4   \n",
       "1                                                  2   \n",
       "2                                                  2   \n",
       "3                                                  3   \n",
       "4                                                  1   \n",
       "\n",
       "  How satisfied with the job prospect of TNI คุณพึงพอใจกับโอกาสในการได้รับงานจากTNIหรือไม่  \\\n",
       "0                                                  4                                         \n",
       "1                                                  5                                         \n",
       "2                                                  5                                         \n",
       "3                                                  4                                         \n",
       "4                                                  5                                         \n",
       "\n",
       "  How satisfied with the language proficiency in English and Japanese คุณพึงพอใจกับทักษะระดับภาษาอังกฤษและญี่ปุ่นขนาดไหน  \\\n",
       "0                                                  3                                                                       \n",
       "1                                                  5                                                                       \n",
       "2                                                  5                                                                       \n",
       "3                                                  3                                                                       \n",
       "4                                                  4                                                                       \n",
       "\n",
       "  How satisfied with the first aid room facility คุณพึงพอใจกับห้องปฐมพยาบาลหรือไม่  \\\n",
       "0                                                  3                                 \n",
       "1                                                  3                                 \n",
       "2                                                  3                                 \n",
       "3                                                  3                                 \n",
       "4                                                  3                                 \n",
       "\n",
       "  How satisfied with the library คุณพึงพอใจกับห้องสมุดขนาดไหน  \\\n",
       "0                                                  4            \n",
       "1                                                  5            \n",
       "2                                                  3            \n",
       "3                                                  4            \n",
       "4                                                  4            \n",
       "\n",
       "   How satisfied with the WiFi and Internet คุณพึงพอใจกับไวไฟและอินเตอร์เน็ตขนาดไหน  \\\n",
       "0                                                  4                                  \n",
       "1                                                  4                                  \n",
       "2                                                  4                                  \n",
       "3                                                  4                                  \n",
       "4                                                  4                                  \n",
       "\n",
       "   Are you satisfied with the speed of the printing services shop คุณพึงพอใจกับความเร็วของร้านถ่ายเอกสารหรือไม่  \\\n",
       "0                                                  3                                                              \n",
       "1                                                  4                                                              \n",
       "2                                                  5                                                              \n",
       "3                                                  3                                                              \n",
       "4                                                  3                                                              \n",
       "\n",
       "   Does cooperative shop has the item or goods you want สหกรณ์มีสินค้าที่คุณต้องการหรือไม่  \\\n",
       "0                                 Sometimes บางครั้ง                                         \n",
       "1                                 Sometimes บางครั้ง                                         \n",
       "2                                  Always มีตลอดเวลา                                         \n",
       "3                                 Sometimes บางครั้ง                                         \n",
       "4                                 Sometimes บางครั้ง                                         \n",
       "\n",
       "   Overall opinion about TNI ความคิดเห็นเกี่ยวกับTNI  \n",
       "0                                                  4  \n",
       "1                                                  5  \n",
       "2                                                  5  \n",
       "3                                                  4  \n",
       "4                                                  5  \n",
       "\n",
       "[5 rows x 30 columns]"
      ]
     },
     "execution_count": 4,
     "metadata": {},
     "output_type": "execute_result"
    }
   ],
   "source": [
    "df.head()"
   ]
  },
  {
   "cell_type": "code",
   "execution_count": 5,
   "id": "c2e97942-ddb9-4abc-a8b6-d9931c4a74a1",
   "metadata": {},
   "outputs": [],
   "source": [
    "df = df.rename(columns={'Gender เพศ':'Gender','Degree ระดับการศึกษา':'Degree','Major of Study สาขา':'Major','Year of Birth ปีเกิด':'Age',\n",
    "                        'Mode of Transportation วิธีการเดินทาง':'Transportation','Most favourite food shop in TNI ร้านอาหารที่ชอบในTNI':'TNIfoodshop',\n",
    "                        'Most favourite food shop near TNI ร้านอาหารที่ชอบใกล้TNI':'NearTNIfood','Most favourite beverage shop ร้านเครื่องดื่มที่ชอบ':'Beverageshop',\n",
    "                        'Most favourite vending machine ตู้กดอัตโนมัติที่ชอบ':'Vendingmachine','Most Favourite Sport Facilities กีฬาที่ชอบ':'Sport',\n",
    "                        'Most favourite spot to relax สถานที่พักผ่อนที่ชอบ':'Spottorelax','Time spending in the library per week (hours) เวลาที่ใช้ในห้องสมุดต่อสัปดาห์':'Timeinlibrary',\n",
    "                        'study tools and Devices อุปกรณ์ที่ใช้ในการเรียนรู้':'Devices','Device Brand แบรนด์ของอุปกรณ์':'Devicebrand',\n",
    "                        'How do you spend per month คุณใช้จ่ายเท่าไรต่อเดือน':'Spendpermonth','Type of accommodation รูปแบบที่พักอาศัย':'Accommodation',\n",
    "                        'Do you think the shops in the institute is expensive คุณคิดว่าสินค้าของร้านค้าในสถาบันมีราคาสูงหรือไม่':'Isexpensiveornot',\n",
    "                        'Stress from Study ความเครียดจากการเรียน':'Stressfromstudy','Stress from Workload and Homework ความเครียดจากงานและการบ้าน':'Stressfromworkload',\n",
    "                        'Stress from Social interaction ความเครียดจากสังคม':'Stressfromsocial','Stress from Lecturer ความเครียดจากอาจารย์ผู้สอน':'Stressfromlecturer',\n",
    "                        'Stress from Family Situation ความเครียดจากครอบครัว':'Stressfromfamily',\n",
    "                        'How satisfied with the job prospect of TNI คุณพึงพอใจกับโอกาสในการได้รับงานจากTNIหรือไม่':'JobprospectofTNI',\n",
    "                        'How satisfied with the language proficiency in English and Japanese คุณพึงพอใจกับทักษะระดับภาษาอังกฤษและญี่ปุ่นขนาดไหน':'Languagesstisfy',\n",
    "                        'How satisfied with the first aid room facility คุณพึงพอใจกับห้องปฐมพยาบาลหรือไม่':'firstaidroomsatisfy',\n",
    "                        'How satisfied with the library คุณพึงพอใจกับห้องสมุดขนาดไหน':'Librarysatisfy',\n",
    "                        'How satisfied with the WiFi and Internet คุณพึงพอใจกับไวไฟและอินเตอร์เน็ตขนาดไหน':'Internetsatisfy',\n",
    "                        'Are you satisfied with the speed of the printing services shop คุณพึงพอใจกับความเร็วของร้านถ่ายเอกสารหรือไม่':'Printingsatisfy',\n",
    "                        'Does cooperative shop has the item or goods you want สหกรณ์มีสินค้าที่คุณต้องการหรือไม่':'Cooperativeshop',\n",
    "                        'Overall opinion about TNI ความคิดเห็นเกี่ยวกับTNI':'Opinion'})"
   ]
  },
  {
   "cell_type": "code",
   "execution_count": 6,
   "id": "ddf40972-a133-4627-a940-e35448d8ab35",
   "metadata": {},
   "outputs": [
    {
     "data": {
      "text/html": [
       "<div>\n",
       "<style scoped>\n",
       "    .dataframe tbody tr th:only-of-type {\n",
       "        vertical-align: middle;\n",
       "    }\n",
       "\n",
       "    .dataframe tbody tr th {\n",
       "        vertical-align: top;\n",
       "    }\n",
       "\n",
       "    .dataframe thead th {\n",
       "        text-align: right;\n",
       "    }\n",
       "</style>\n",
       "<table border=\"1\" class=\"dataframe\">\n",
       "  <thead>\n",
       "    <tr style=\"text-align: right;\">\n",
       "      <th></th>\n",
       "      <th>Gender</th>\n",
       "      <th>Degree</th>\n",
       "      <th>Major</th>\n",
       "      <th>Age</th>\n",
       "      <th>Transportation</th>\n",
       "      <th>TNIfoodshop</th>\n",
       "      <th>NearTNIfood</th>\n",
       "      <th>Beverageshop</th>\n",
       "      <th>Vendingmachine</th>\n",
       "      <th>Sport</th>\n",
       "      <th>...</th>\n",
       "      <th>Stressfromlecturer</th>\n",
       "      <th>Stressfromfamily</th>\n",
       "      <th>JobprospectofTNI</th>\n",
       "      <th>Languagesstisfy</th>\n",
       "      <th>firstaidroomsatisfy</th>\n",
       "      <th>Librarysatisfy</th>\n",
       "      <th>Internetsatisfy</th>\n",
       "      <th>Printingsatisfy</th>\n",
       "      <th>Cooperativeshop</th>\n",
       "      <th>Opinion</th>\n",
       "    </tr>\n",
       "  </thead>\n",
       "  <tbody>\n",
       "    <tr>\n",
       "      <th>0</th>\n",
       "      <td>Male/ชาย</td>\n",
       "      <td>Undergraduate/ปริญญาตรี</td>\n",
       "      <td>DSA</td>\n",
       "      <td>2001</td>\n",
       "      <td>Walk เดินเท้า</td>\n",
       "      <td>Hainanese chicken rice ข้าวมันไก่นายโส่ย</td>\n",
       "      <td>Green Steak shop สเต็กคุณพีซ (ร้านเขียว)</td>\n",
       "      <td>Infinity/เอมุ (Building E) ตึก E</td>\n",
       "      <td>7-11</td>\n",
       "      <td>Table Tennis</td>\n",
       "      <td>...</td>\n",
       "      <td>3</td>\n",
       "      <td>4</td>\n",
       "      <td>4</td>\n",
       "      <td>3</td>\n",
       "      <td>3</td>\n",
       "      <td>4</td>\n",
       "      <td>4</td>\n",
       "      <td>3</td>\n",
       "      <td>Sometimes บางครั้ง</td>\n",
       "      <td>4</td>\n",
       "    </tr>\n",
       "    <tr>\n",
       "      <th>1</th>\n",
       "      <td>Male/ชาย</td>\n",
       "      <td>Undergraduate/ปริญญาตรี</td>\n",
       "      <td>DGE</td>\n",
       "      <td>2004</td>\n",
       "      <td>Walk เดินเท้า</td>\n",
       "      <td>Hiramiya Japanese Food ร้านอาหารญี่ปุ่นฮิรามิยะ</td>\n",
       "      <td>Shop opposite blue building ร้านป้านิด (ร้านตร...</td>\n",
       "      <td>Infinity/เอมุ (Building E) ตึก E</td>\n",
       "      <td>7-11</td>\n",
       "      <td>Badminton court</td>\n",
       "      <td>...</td>\n",
       "      <td>1</td>\n",
       "      <td>2</td>\n",
       "      <td>5</td>\n",
       "      <td>5</td>\n",
       "      <td>3</td>\n",
       "      <td>5</td>\n",
       "      <td>4</td>\n",
       "      <td>4</td>\n",
       "      <td>Sometimes บางครั้ง</td>\n",
       "      <td>5</td>\n",
       "    </tr>\n",
       "    <tr>\n",
       "      <th>2</th>\n",
       "      <td>Female/หญิง</td>\n",
       "      <td>Undergraduate/ปริญญาตรี</td>\n",
       "      <td>JIB</td>\n",
       "      <td>2004</td>\n",
       "      <td>Car รถยนต์</td>\n",
       "      <td>Snack shop ขนม-นม-เนย</td>\n",
       "      <td>7-11</td>\n",
       "      <td>Coffee Shop (Building B) ตึก B</td>\n",
       "      <td>7-11</td>\n",
       "      <td>Gym</td>\n",
       "      <td>...</td>\n",
       "      <td>2</td>\n",
       "      <td>2</td>\n",
       "      <td>5</td>\n",
       "      <td>5</td>\n",
       "      <td>3</td>\n",
       "      <td>3</td>\n",
       "      <td>4</td>\n",
       "      <td>5</td>\n",
       "      <td>Always มีตลอดเวลา</td>\n",
       "      <td>5</td>\n",
       "    </tr>\n",
       "    <tr>\n",
       "      <th>3</th>\n",
       "      <td>Female/หญิง</td>\n",
       "      <td>Undergraduate/ปริญญาตรี</td>\n",
       "      <td>DSA</td>\n",
       "      <td>2002</td>\n",
       "      <td>Walk เดินเท้า</td>\n",
       "      <td>Hainanese chicken rice ข้าวมันไก่นายโส่ย</td>\n",
       "      <td>Green Steak shop สเต็กคุณพีซ (ร้านเขียว)</td>\n",
       "      <td>Coffee Shop (Building B) ตึก B</td>\n",
       "      <td>7-11</td>\n",
       "      <td>Badminton court</td>\n",
       "      <td>...</td>\n",
       "      <td>3</td>\n",
       "      <td>3</td>\n",
       "      <td>4</td>\n",
       "      <td>3</td>\n",
       "      <td>3</td>\n",
       "      <td>4</td>\n",
       "      <td>4</td>\n",
       "      <td>3</td>\n",
       "      <td>Sometimes บางครั้ง</td>\n",
       "      <td>4</td>\n",
       "    </tr>\n",
       "    <tr>\n",
       "      <th>4</th>\n",
       "      <td>Female/หญิง</td>\n",
       "      <td>Undergraduate/ปริญญาตรี</td>\n",
       "      <td>DSA</td>\n",
       "      <td>2002</td>\n",
       "      <td>Walk เดินเท้า</td>\n",
       "      <td>Hiramiya Japanese Food ร้านอาหารญี่ปุ่นฮิรามิยะ</td>\n",
       "      <td>Shop under blue building ร้านพี่นก (ร้านใต้ตึก...</td>\n",
       "      <td>Sunrise Coffee (Building A) ตึก A</td>\n",
       "      <td>7-11</td>\n",
       "      <td>Basketball / Volley ball</td>\n",
       "      <td>...</td>\n",
       "      <td>1</td>\n",
       "      <td>1</td>\n",
       "      <td>5</td>\n",
       "      <td>4</td>\n",
       "      <td>3</td>\n",
       "      <td>4</td>\n",
       "      <td>4</td>\n",
       "      <td>3</td>\n",
       "      <td>Sometimes บางครั้ง</td>\n",
       "      <td>5</td>\n",
       "    </tr>\n",
       "  </tbody>\n",
       "</table>\n",
       "<p>5 rows × 30 columns</p>\n",
       "</div>"
      ],
      "text/plain": [
       "        Gender                   Degree Major   Age Transportation  \\\n",
       "0     Male/ชาย  Undergraduate/ปริญญาตรี   DSA  2001  Walk เดินเท้า   \n",
       "1     Male/ชาย  Undergraduate/ปริญญาตรี   DGE  2004  Walk เดินเท้า   \n",
       "2  Female/หญิง  Undergraduate/ปริญญาตรี   JIB  2004     Car รถยนต์   \n",
       "3  Female/หญิง  Undergraduate/ปริญญาตรี   DSA  2002  Walk เดินเท้า   \n",
       "4  Female/หญิง  Undergraduate/ปริญญาตรี   DSA  2002  Walk เดินเท้า   \n",
       "\n",
       "                                       TNIfoodshop  \\\n",
       "0         Hainanese chicken rice ข้าวมันไก่นายโส่ย   \n",
       "1  Hiramiya Japanese Food ร้านอาหารญี่ปุ่นฮิรามิยะ   \n",
       "2                            Snack shop ขนม-นม-เนย   \n",
       "3         Hainanese chicken rice ข้าวมันไก่นายโส่ย   \n",
       "4  Hiramiya Japanese Food ร้านอาหารญี่ปุ่นฮิรามิยะ   \n",
       "\n",
       "                                         NearTNIfood  \\\n",
       "0           Green Steak shop สเต็กคุณพีซ (ร้านเขียว)   \n",
       "1  Shop opposite blue building ร้านป้านิด (ร้านตร...   \n",
       "2                                               7-11   \n",
       "3           Green Steak shop สเต็กคุณพีซ (ร้านเขียว)   \n",
       "4  Shop under blue building ร้านพี่นก (ร้านใต้ตึก...   \n",
       "\n",
       "                        Beverageshop Vendingmachine                     Sport  \\\n",
       "0   Infinity/เอมุ (Building E) ตึก E           7-11              Table Tennis   \n",
       "1   Infinity/เอมุ (Building E) ตึก E           7-11           Badminton court   \n",
       "2     Coffee Shop (Building B) ตึก B           7-11                       Gym   \n",
       "3     Coffee Shop (Building B) ตึก B           7-11           Badminton court   \n",
       "4  Sunrise Coffee (Building A) ตึก A           7-11  Basketball / Volley ball   \n",
       "\n",
       "   ... Stressfromlecturer Stressfromfamily JobprospectofTNI Languagesstisfy  \\\n",
       "0  ...                  3                4                4               3   \n",
       "1  ...                  1                2                5               5   \n",
       "2  ...                  2                2                5               5   \n",
       "3  ...                  3                3                4               3   \n",
       "4  ...                  1                1                5               4   \n",
       "\n",
       "  firstaidroomsatisfy Librarysatisfy  Internetsatisfy  Printingsatisfy  \\\n",
       "0                   3              4                4                3   \n",
       "1                   3              5                4                4   \n",
       "2                   3              3                4                5   \n",
       "3                   3              4                4                3   \n",
       "4                   3              4                4                3   \n",
       "\n",
       "      Cooperativeshop  Opinion  \n",
       "0  Sometimes บางครั้ง        4  \n",
       "1  Sometimes บางครั้ง        5  \n",
       "2   Always มีตลอดเวลา        5  \n",
       "3  Sometimes บางครั้ง        4  \n",
       "4  Sometimes บางครั้ง        5  \n",
       "\n",
       "[5 rows x 30 columns]"
      ]
     },
     "execution_count": 6,
     "metadata": {},
     "output_type": "execute_result"
    }
   ],
   "source": [
    "df.head()"
   ]
  },
  {
   "cell_type": "code",
   "execution_count": 7,
   "id": "437925f3-8e58-4906-ad76-fe495e22fdca",
   "metadata": {},
   "outputs": [],
   "source": [
    "dithen={'Male/ชาย':'Male','Female/หญิง':'Female','LGBT/เพศทางเลือก':'LGBT','Prefer not to say/ไม่ระบุ':'NA',\n",
    "        'Undergraduate/ปริญญาตรี':'Undergraduate','Master/ปริญญาโท':'Master',\n",
    "        'Walk เดินเท้า':'Walk','Public Transport การเดินทางสาธารณะ':'Publictransport','Bicycle จักรยาน':'Bicycle','Motorbike จักรยานยนต์':'Motorbike','Car รถยนต์':'Car'}\n",
    "df['Gender'].replace(dithen, inplace=True)\n",
    "df['Degree'].replace(dithen, inplace=True)\n",
    "df['Transportation'].replace(dithen, inplace=True)\n",
    "df['Age']=2022-df['Age']"
   ]
  },
  {
   "cell_type": "code",
   "execution_count": 8,
   "id": "95e965a3-9b69-495a-bfb8-d1c08dd847dd",
   "metadata": {},
   "outputs": [],
   "source": [
    "dithen={'Hiramiya Japanese Food ร้านอาหารญี่ปุ่นฮิรามิยะ':'Japanesefood','Nima (Halal food) ร้านนิมา':'Nimashop','โอยาซึ (o yatsu)':'Oyatsu',\n",
    "        'Kaizen ไข่เส้น':'Kaizen','Hainanese chicken rice ข้าวมันไก่นายโส่ย':'Hainanesechickenrice','Snack shop ขนม-นม-เนย':'Snackshop',\n",
    "        'Noodle shop ชิม ชาม นุ้ดเดิ้ล':'Noodleshop','Thai food shop ร้านคุณภา':'Thaifoodshop','Fast food building D ป้ากาณจน์ ตึก D':'FastfoodbuildingDshop','Thai omlet shop building D ร้านข้าวไข่เจียวตึก D':'ThaiomletbuildingD'}\n",
    "df['TNIfoodshop'].replace(dithen, inplace=True)"
   ]
  },
  {
   "cell_type": "code",
   "execution_count": 9,
   "id": "3a8ccc61-f9dc-4527-9b94-5d40edbee2d8",
   "metadata": {},
   "outputs": [],
   "source": [
    "dithen={'Blue shop behind 7-11 เลิศวิลัย (ร้านฟ้า)':'Blueshop','Green Steak shop สเต็กคุณพีซ (ร้านเขียว)':'Steakshop','Kitty shop (japanese food) ร้านคิตตี้':'Kittyshop',\n",
    "        'Shop under blue building ร้านพี่นก (ร้านใต้ตึกฟ้า)':'PNokshop','Shop opposite blue building ร้านป้านิด (ร้านตรงข้ามตึกฟ้า)':'PaNidshop',\n",
    "        'Shop next to pink building ครัวเจ๊น้อย (ร้านข้างตึกชมพู)':'JNoishop','Beadouin steak and coffee เบดูอิน':'Beadouin','Noodle at soi 40 ก๋วยเตี๋ยวซอย40':'Noodleat40',\n",
    "        'Food shop in front of soi 40 ร้านอาหารตามสั่งหน้าซอย40':'Foodshopat40','Papaya salad at soi 40 ร้านส้มตำซอย40':'Papayasalad'}\n",
    "df['NearTNIfood'].replace(dithen, inplace=True)"
   ]
  },
  {
   "cell_type": "code",
   "execution_count": 10,
   "id": "ae803e60-0fd7-4bf7-9e4c-1ed0157c58ac",
   "metadata": {},
   "outputs": [],
   "source": [
    "dithen={'Sunrise Coffee (Building A) ตึก A':'Sunrise','Infinity/เอมุ (Building E) ตึก E':'Amu',\n",
    "        'Coffee Shop (Building B) ตึก B':'CoffeeshopEbuilding','Coffee Shop (Building D) ตึกD':'CoffeeshopDbuilding'}\n",
    "df['Beverageshop'].replace(dithen, inplace=True)"
   ]
  },
  {
   "cell_type": "code",
   "execution_count": 11,
   "id": "cc5f97f7-2d9c-4447-8461-43bfc098b65d",
   "metadata": {},
   "outputs": [],
   "source": [
    "dithen={'library ห้องสมุด':'Library','E Building lounge เลานจ์ตึก E':'Lounge','M floor Building E ชั้นลอยตึก E':'Mfloor',\n",
    "        'Vacant Classroom ห้องเรียนที่ว่าง':'Vacantroom','Lab แล็บ':'Lab','Creative Cultural Room Building E ห้องญี่ปุ่นตึก E':'CulturalRoom'}\n",
    "df['Spottorelax'].replace(dithen, inplace=True)"
   ]
  },
  {
   "cell_type": "code",
   "execution_count": 12,
   "id": "09bb4414-5623-4b65-88fb-4ec5e0adb6a4",
   "metadata": {},
   "outputs": [],
   "source": [
    "dithen={'less than 1 น้อยกว่า 1':'Less than 1','15 - 20 hr':'15 - 20','More than 20 (มากกว่า 20 ชั่วโมง)':'More than 20',\n",
    "        #spentpermonth\n",
    "        'less than 3,000 น้อยกว่า3,000':'Less than 3,000','more than 10,000 มากกว่า10,000':'More than 10,000'}\n",
    "df['Timeinlibrary'].replace(dithen, inplace=True)\n",
    "df['Spendpermonth'].replace(dithen, inplace=True)"
   ]
  },
  {
   "cell_type": "code",
   "execution_count": 13,
   "id": "26ecd5f4-d032-4a3e-910f-635b7927d1a9",
   "metadata": {},
   "outputs": [],
   "source": [
    "dithen={'Dormitory หอพัก':'Dormitory','Condominium คอนโดมิเนียม':'Condominium','Detached House บ้านเดี่ยว':'Detached House',\n",
    "        'Apartment อพาร์ทเม้นท์':'Apartment','Town house ทาวน์เฮ้าส์':'Town house','Town home ทาวน์โฮม':'Town home',\n",
    "       #Cooperative\n",
    "       'Always มีตลอดเวลา':'Always','Sometimes บางครั้ง':'Sometimes','Never ไม่เคย':'Never'}\n",
    "df['Accommodation'].replace(dithen, inplace=True)\n",
    "df['Cooperativeshop'].replace(dithen, inplace=True)"
   ]
  },
  {
   "cell_type": "code",
   "execution_count": 14,
   "id": "a0e0f34b-c4b0-457e-b780-4a8eed723c0d",
   "metadata": {},
   "outputs": [
    {
     "data": {
      "text/html": [
       "<div>\n",
       "<style scoped>\n",
       "    .dataframe tbody tr th:only-of-type {\n",
       "        vertical-align: middle;\n",
       "    }\n",
       "\n",
       "    .dataframe tbody tr th {\n",
       "        vertical-align: top;\n",
       "    }\n",
       "\n",
       "    .dataframe thead th {\n",
       "        text-align: right;\n",
       "    }\n",
       "</style>\n",
       "<table border=\"1\" class=\"dataframe\">\n",
       "  <thead>\n",
       "    <tr style=\"text-align: right;\">\n",
       "      <th></th>\n",
       "      <th>Gender</th>\n",
       "      <th>Degree</th>\n",
       "      <th>Major</th>\n",
       "      <th>Age</th>\n",
       "      <th>Transportation</th>\n",
       "      <th>TNIfoodshop</th>\n",
       "      <th>NearTNIfood</th>\n",
       "      <th>Beverageshop</th>\n",
       "      <th>Vendingmachine</th>\n",
       "      <th>Sport</th>\n",
       "      <th>...</th>\n",
       "      <th>Stressfromlecturer</th>\n",
       "      <th>Stressfromfamily</th>\n",
       "      <th>JobprospectofTNI</th>\n",
       "      <th>Languagesstisfy</th>\n",
       "      <th>firstaidroomsatisfy</th>\n",
       "      <th>Librarysatisfy</th>\n",
       "      <th>Internetsatisfy</th>\n",
       "      <th>Printingsatisfy</th>\n",
       "      <th>Cooperativeshop</th>\n",
       "      <th>Opinion</th>\n",
       "    </tr>\n",
       "  </thead>\n",
       "  <tbody>\n",
       "    <tr>\n",
       "      <th>0</th>\n",
       "      <td>Male</td>\n",
       "      <td>Undergraduate</td>\n",
       "      <td>DSA</td>\n",
       "      <td>21</td>\n",
       "      <td>Walk</td>\n",
       "      <td>Hainanesechickenrice</td>\n",
       "      <td>Steakshop</td>\n",
       "      <td>Amu</td>\n",
       "      <td>7-11</td>\n",
       "      <td>Table Tennis</td>\n",
       "      <td>...</td>\n",
       "      <td>3</td>\n",
       "      <td>4</td>\n",
       "      <td>4</td>\n",
       "      <td>3</td>\n",
       "      <td>3</td>\n",
       "      <td>4</td>\n",
       "      <td>4</td>\n",
       "      <td>3</td>\n",
       "      <td>Sometimes</td>\n",
       "      <td>4</td>\n",
       "    </tr>\n",
       "    <tr>\n",
       "      <th>1</th>\n",
       "      <td>Male</td>\n",
       "      <td>Undergraduate</td>\n",
       "      <td>DGE</td>\n",
       "      <td>18</td>\n",
       "      <td>Walk</td>\n",
       "      <td>Japanesefood</td>\n",
       "      <td>PaNidshop</td>\n",
       "      <td>Amu</td>\n",
       "      <td>7-11</td>\n",
       "      <td>Badminton court</td>\n",
       "      <td>...</td>\n",
       "      <td>1</td>\n",
       "      <td>2</td>\n",
       "      <td>5</td>\n",
       "      <td>5</td>\n",
       "      <td>3</td>\n",
       "      <td>5</td>\n",
       "      <td>4</td>\n",
       "      <td>4</td>\n",
       "      <td>Sometimes</td>\n",
       "      <td>5</td>\n",
       "    </tr>\n",
       "    <tr>\n",
       "      <th>2</th>\n",
       "      <td>Female</td>\n",
       "      <td>Undergraduate</td>\n",
       "      <td>JIB</td>\n",
       "      <td>18</td>\n",
       "      <td>Car</td>\n",
       "      <td>Snackshop</td>\n",
       "      <td>7-11</td>\n",
       "      <td>CoffeeshopEbuilding</td>\n",
       "      <td>7-11</td>\n",
       "      <td>Gym</td>\n",
       "      <td>...</td>\n",
       "      <td>2</td>\n",
       "      <td>2</td>\n",
       "      <td>5</td>\n",
       "      <td>5</td>\n",
       "      <td>3</td>\n",
       "      <td>3</td>\n",
       "      <td>4</td>\n",
       "      <td>5</td>\n",
       "      <td>Always</td>\n",
       "      <td>5</td>\n",
       "    </tr>\n",
       "    <tr>\n",
       "      <th>3</th>\n",
       "      <td>Female</td>\n",
       "      <td>Undergraduate</td>\n",
       "      <td>DSA</td>\n",
       "      <td>20</td>\n",
       "      <td>Walk</td>\n",
       "      <td>Hainanesechickenrice</td>\n",
       "      <td>Steakshop</td>\n",
       "      <td>CoffeeshopEbuilding</td>\n",
       "      <td>7-11</td>\n",
       "      <td>Badminton court</td>\n",
       "      <td>...</td>\n",
       "      <td>3</td>\n",
       "      <td>3</td>\n",
       "      <td>4</td>\n",
       "      <td>3</td>\n",
       "      <td>3</td>\n",
       "      <td>4</td>\n",
       "      <td>4</td>\n",
       "      <td>3</td>\n",
       "      <td>Sometimes</td>\n",
       "      <td>4</td>\n",
       "    </tr>\n",
       "    <tr>\n",
       "      <th>4</th>\n",
       "      <td>Female</td>\n",
       "      <td>Undergraduate</td>\n",
       "      <td>DSA</td>\n",
       "      <td>20</td>\n",
       "      <td>Walk</td>\n",
       "      <td>Japanesefood</td>\n",
       "      <td>PNokshop</td>\n",
       "      <td>Sunrise</td>\n",
       "      <td>7-11</td>\n",
       "      <td>Basketball / Volley ball</td>\n",
       "      <td>...</td>\n",
       "      <td>1</td>\n",
       "      <td>1</td>\n",
       "      <td>5</td>\n",
       "      <td>4</td>\n",
       "      <td>3</td>\n",
       "      <td>4</td>\n",
       "      <td>4</td>\n",
       "      <td>3</td>\n",
       "      <td>Sometimes</td>\n",
       "      <td>5</td>\n",
       "    </tr>\n",
       "  </tbody>\n",
       "</table>\n",
       "<p>5 rows × 30 columns</p>\n",
       "</div>"
      ],
      "text/plain": [
       "   Gender         Degree Major  Age Transportation           TNIfoodshop  \\\n",
       "0    Male  Undergraduate   DSA   21           Walk  Hainanesechickenrice   \n",
       "1    Male  Undergraduate   DGE   18           Walk          Japanesefood   \n",
       "2  Female  Undergraduate   JIB   18            Car             Snackshop   \n",
       "3  Female  Undergraduate   DSA   20           Walk  Hainanesechickenrice   \n",
       "4  Female  Undergraduate   DSA   20           Walk          Japanesefood   \n",
       "\n",
       "  NearTNIfood         Beverageshop Vendingmachine                     Sport  \\\n",
       "0   Steakshop                  Amu           7-11              Table Tennis   \n",
       "1   PaNidshop                  Amu           7-11           Badminton court   \n",
       "2        7-11  CoffeeshopEbuilding           7-11                       Gym   \n",
       "3   Steakshop  CoffeeshopEbuilding           7-11           Badminton court   \n",
       "4    PNokshop              Sunrise           7-11  Basketball / Volley ball   \n",
       "\n",
       "   ... Stressfromlecturer Stressfromfamily JobprospectofTNI Languagesstisfy  \\\n",
       "0  ...                  3                4                4               3   \n",
       "1  ...                  1                2                5               5   \n",
       "2  ...                  2                2                5               5   \n",
       "3  ...                  3                3                4               3   \n",
       "4  ...                  1                1                5               4   \n",
       "\n",
       "  firstaidroomsatisfy Librarysatisfy  Internetsatisfy  Printingsatisfy  \\\n",
       "0                   3              4                4                3   \n",
       "1                   3              5                4                4   \n",
       "2                   3              3                4                5   \n",
       "3                   3              4                4                3   \n",
       "4                   3              4                4                3   \n",
       "\n",
       "   Cooperativeshop  Opinion  \n",
       "0        Sometimes        4  \n",
       "1        Sometimes        5  \n",
       "2           Always        5  \n",
       "3        Sometimes        4  \n",
       "4        Sometimes        5  \n",
       "\n",
       "[5 rows x 30 columns]"
      ]
     },
     "execution_count": 14,
     "metadata": {},
     "output_type": "execute_result"
    }
   ],
   "source": [
    "df.head()"
   ]
  },
  {
   "cell_type": "code",
   "execution_count": 15,
   "id": "f78cd093-52e6-4040-bea3-ccac20820fd9",
   "metadata": {},
   "outputs": [
    {
     "data": {
      "image/png": "[encoded data removed]",
      "text/plain": [
       "<Figure size 432x288 with 1 Axes>"
      ]
     },
     "metadata": {},
     "output_type": "display_data"
    }
   ],
   "source": [
    "my_labels = 'Male', 'Female', 'Prefer not to say', 'LGBT'\n",
    "plt.pie(df['Gender'].value_counts(), labels=my_labels, autopct='%1.1f%%', startangle=15)\n",
    "plt.show()"
   ]
  },
  {
   "cell_type": "code",
   "execution_count": 31,
   "id": "79467c4a-163f-4d64-bd75-cf6c7d81f300",
   "metadata": {},
   "outputs": [
    {
     "data": {
      "text/plain": [
       "<AxesSubplot:ylabel='Frequency'>"
      ]
     },
     "execution_count": 31,
     "metadata": {},
     "output_type": "execute_result"
    },
    {
     "data": {
      "image/png": "[encoded data removed]",
      "text/plain": [
       "<Figure size 432x288 with 1 Axes>"
      ]
     },
     "metadata": {},
     "output_type": "display_data"
    }
   ],
   "source": [
    "df['Opinion'].plot(kind='hist')"
   ]
  },
  {
   "cell_type": "code",
   "execution_count": 17,
   "id": "87d4d323-7576-40ca-87ca-db57ca72a6ea",
   "metadata": {},
   "outputs": [],
   "source": [
    "Age = df['Age']\n",
    "Major = df['Major']"
   ]
  },
  {
   "cell_type": "code",
   "execution_count": 24,
   "id": "395168b1-801e-48e8-867b-9dde104004ed",
   "metadata": {},
   "outputs": [
    {
     "data": {
      "image/png": "[encoded data removed]",
      "text/plain": [
       "<Figure size 432x288 with 1 Axes>"
      ]
     },
     "metadata": {
      "needs_background": "light"
     },
     "output_type": "display_data"
    }
   ],
   "source": [
    "plt.bar(Age,Major, color='black')\n",
    "plt.show()"
   ]
  },
  {
   "cell_type": "code",
   "execution_count": 32,
   "id": "8a1e303d-3c2e-4e8d-a0c0-221a64237049",
   "metadata": {},
   "outputs": [
    {
     "data": {
      "text/plain": [
       "<AxesSubplot:ylabel='Frequency'>"
      ]
     },
     "execution_count": 32,
     "metadata": {},
     "output_type": "execute_result"
    },
    {
     "data": {
      "image/png": "[encoded data removed]",
      "text/plain": [
       "<Figure size 432x288 with 1 Axes>"
      ]
     },
     "metadata": {},
     "output_type": "display_data"
    }
   ],
   "source": [
    "df['Opinion'].plot(kind='hist')"
   ]
  },
  {
   "cell_type": "code",
   "execution_count": 33,
   "id": "891878c2-0177-48f6-a848-aac6f37c07ef",
   "metadata": {},
   "outputs": [
    {
     "data": {
      "text/plain": [
       "<AxesSubplot:xlabel='Opinion', ylabel='Major'>"
      ]
     },
     "execution_count": 33,
     "metadata": {},
     "output_type": "execute_result"
    },
    {
     "data": {
      "image/png": "[encoded data removed]",
      "text/plain": [
       "<Figure size 432x288 with 1 Axes>"
      ]
     },
     "metadata": {},
     "output_type": "display_data"
    }
   ],
   "source": [
    "sns.scatterplot(x=df['Opinion'], y=df['Major'])"
   ]
  },
  {
   "cell_type": "code",
   "execution_count": 42,
   "id": "e03bb99e-f4f4-4b8f-b250-67be8211e126",
   "metadata": {},
   "outputs": [
    {
     "data": {
      "text/plain": [
       "<AxesSubplot:xlabel='Sport-Opinion', ylabel='Gender-Major'>"
      ]
     },
     "execution_count": 42,
     "metadata": {},
     "output_type": "execute_result"
    },
    {
     "data": {
      "image/png": "[encoded data removed]",
      "text/plain": [
       "<Figure size 432x288 with 1 Axes>"
      ]
     },
     "metadata": {
      "needs_background": "light"
     },
     "output_type": "display_data"
    }
   ],
   "source": [
    "sns.heatmap(pd.crosstab([df.Gender, df.Major], [df.Sport, df.Opinion]),\n",
    "            cmap=\"cividis\", annot=True, cbar=False)"
   ]
  },
  {
   "cell_type": "code",
   "execution_count": 28,
   "id": "2393f9aa-8270-45cc-b387-3cb157370194",
   "metadata": {},
   "outputs": [
    {
     "data": {
      "image/png": "[encoded data removed]",
      "text/plain": [
       "<Figure size 720x432 with 1 Axes>"
      ]
     },
     "metadata": {
      "needs_background": "light"
     },
     "output_type": "display_data"
    }
   ],
   "source": [
    "sns.set_context(\"talk\", font_scale=1.2)\n",
    "plt.figure(figsize=(10, 6))\n",
    "sns.scatterplot(x='Age',\n",
    "                y='Major',\n",
    "                # size=\"body_mass_g\",\n",
    "                sizes=(20, 500),\n",
    "                alpha=0.5,\n",
    "                hue='Gender',\n",
    "                data=df)\n",
    "  \n",
    "# Put the legend out of the figure\n",
    "plt.legend(bbox_to_anchor=(1.01, 1), borderaxespad=0)\n",
    "  \n",
    "# Put the legend out of the figure\n",
    "plt.xlabel(\"Age\")\n",
    "plt.ylabel(\"Major\")\n",
    "plt.title(\"Bubble plot with Colors in Seaborn\")\n",
    "plt.tight_layout()"
   ]
  },
  {
   "cell_type": "code",
   "execution_count": 34,
   "id": "585f2691-99a9-4584-9067-1d8b1a2d9093",
   "metadata": {},
   "outputs": [
    {
     "data": {
      "text/plain": [
       "<AxesSubplot:title={'center':'Opinion'}, xlabel='Major'>"
      ]
     },
     "execution_count": 34,
     "metadata": {},
     "output_type": "execute_result"
    },
    {
     "data": {
      "image/png": "[encoded data removed]",
      "text/plain": [
       "<Figure size 432x288 with 1 Axes>"
      ]
     },
     "metadata": {},
     "output_type": "display_data"
    }
   ],
   "source": [
    "df.boxplot(by ='Major', column =['Opinion'], grid = False)"
   ]
  },
  {
   "cell_type": "code",
   "execution_count": 35,
   "id": "fe2df654-821b-489a-9f37-5227897aade0",
   "metadata": {},
   "outputs": [
    {
     "data": {
      "text/plain": [
       "<AxesSubplot:xlabel='Major', ylabel='Opinion'>"
      ]
     },
     "execution_count": 35,
     "metadata": {},
     "output_type": "execute_result"
    },
    {
     "data": {
      "image/png": "[encoded data removed]",
      "text/plain": [
       "<Figure size 432x288 with 1 Axes>"
      ]
     },
     "metadata": {},
     "output_type": "display_data"
    }
   ],
   "source": [
    "sns.set_style(\"whitegrid\")\n",
    "  \n",
    "sns.boxplot(x = 'Major', y = 'Opinion', data = df)"
   ]
  },
  {
   "cell_type": "code",
   "execution_count": 36,
   "id": "b2a1c5c3-55c9-4f5a-b07f-be9ab26a77bd",
   "metadata": {},
   "outputs": [
    {
     "data": {
      "text/plain": [
       "<AxesSubplot:xlabel='Major', ylabel='Opinion'>"
      ]
     },
     "execution_count": 36,
     "metadata": {},
     "output_type": "execute_result"
    },
    {
     "data": {
      "image/png": "[encoded data removed]",
      "text/plain": [
       "<Figure size 432x288 with 1 Axes>"
      ]
     },
     "metadata": {},
     "output_type": "display_data"
    }
   ],
   "source": [
    "sns.barplot(data = df,x = 'Major', y = 'Opinion')"
   ]
  },
  {
   "cell_type": "code",
   "execution_count": 37,
   "id": "4539d4f7-ca65-4348-b1fa-f4d68c6e60c5",
   "metadata": {},
   "outputs": [
    {
     "data": {
      "text/plain": [
       "<seaborn.axisgrid.FacetGrid at 0x293f1054910>"
      ]
     },
     "execution_count": 37,
     "metadata": {},
     "output_type": "execute_result"
    },
    {
     "data": {
      "image/png": "[encoded data removed]",
      "text/plain": [
       "<Figure size 360x360 with 1 Axes>"
      ]
     },
     "metadata": {},
     "output_type": "display_data"
    }
   ],
   "source": [
    "sns.displot(data = df,x = 'Major', y = 'Opinion')"
   ]
  }
 ],
 "metadata": {
  "kernelspec": {
   "display_name": "Python 3 (ipykernel)",
   "language": "python",
   "name": "python3"
  },
  "language_info": {
   "codemirror_mode": {
    "name": "ipython",
    "version": 3
   },
   "file_extension": ".py",
   "mimetype": "text/x-python",
   "name": "python",
   "nbconvert_exporter": "python",
   "pygments_lexer": "ipython3",
   "version": "3.9.12"
  }
 },
 "nbformat": 4,
 "nbformat_minor": 5
}
